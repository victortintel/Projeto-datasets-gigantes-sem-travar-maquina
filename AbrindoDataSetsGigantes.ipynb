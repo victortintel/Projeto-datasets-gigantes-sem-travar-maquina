{
 "cells": [
  {
   "cell_type": "markdown",
   "id": "15819fb7",
   "metadata": {},
   "source": [
    "## Como vou carregar um DataSet sem \"estourar\" a memória do meu computador"
   ]
  },
  {
   "cell_type": "code",
   "execution_count": 3,
   "id": "bb2b1cbd",
   "metadata": {},
   "outputs": [],
   "source": [
    "# Importando os pacotes a serem utilizados\n",
    "# Set_option max_columns e max_rows serve para que ele mostre de fato todas as linhas e colunas. Quando acontece de um DF ter muitas linhas ou \n",
    "# muitas colunas, o que ele faz é não mostrar tudo. Assim, ele colocará uma rolagem para que apareça tudo.\n",
    "\n",
    "import pandas as pd\n",
    "pd.set_option('display.max_columns', None)\n",
    "pd.set_option('display.max_rows', None)"
   ]
  },
  {
   "cell_type": "code",
   "execution_count": null,
   "id": "fdfb5acf",
   "metadata": {},
   "outputs": [],
   "source": [
    "# Carregando o arquivo\n",
    "\n",
    "# df = pd.read_csv('dados.csv', sep=';')"
   ]
  },
  {
   "cell_type": "code",
   "execution_count": null,
   "id": "642b3a4e",
   "metadata": {},
   "outputs": [],
   "source": [
    "# Quantidade de Variáveis e Observações do DataFrame\n",
    "\n",
    "# df.shape"
   ]
  },
  {
   "cell_type": "code",
   "execution_count": null,
   "id": "5ad2be2c",
   "metadata": {},
   "outputs": [],
   "source": [
    "# Visualizando o DataFrame\n",
    "\n",
    "# df.head()"
   ]
  },
  {
   "cell_type": "code",
   "execution_count": null,
   "id": "25f56b9f",
   "metadata": {},
   "outputs": [],
   "source": [
    "# Avaliando o consumo de memória\n",
    "\n",
    "# df.info(memory_usage='deep')"
   ]
  },
  {
   "cell_type": "code",
   "execution_count": null,
   "id": "a2c7bb6a",
   "metadata": {},
   "outputs": [],
   "source": []
  },
  {
   "cell_type": "code",
   "execution_count": 13,
   "id": "13f29753",
   "metadata": {},
   "outputs": [],
   "source": [
    "# Vou carregar somente 5 linhas para avaliar o arquivo\n",
    "# O ideal é carregar até 1000 linhas pelo menos para não ter tanto peso dentro da memória.\n",
    "\n",
    "df = pd.read_csv('dados.csv', sep=';', nrows = 5)"
   ]
  },
  {
   "cell_type": "code",
   "execution_count": 7,
   "id": "4dc60905",
   "metadata": {},
   "outputs": [
    {
     "data": {
      "text/plain": [
       "(5, 31)"
      ]
     },
     "execution_count": 7,
     "metadata": {},
     "output_type": "execute_result"
    }
   ],
   "source": [
    "# quantidade de observações e variáveis\n",
    "\n",
    "df.shape"
   ]
  },
  {
   "cell_type": "code",
   "execution_count": 15,
   "id": "0c306f51",
   "metadata": {},
   "outputs": [
    {
     "data": {
      "text/html": [
       "<div>\n",
       "<style scoped>\n",
       "    .dataframe tbody tr th:only-of-type {\n",
       "        vertical-align: middle;\n",
       "    }\n",
       "\n",
       "    .dataframe tbody tr th {\n",
       "        vertical-align: top;\n",
       "    }\n",
       "\n",
       "    .dataframe thead th {\n",
       "        text-align: right;\n",
       "    }\n",
       "</style>\n",
       "<table border=\"1\" class=\"dataframe\">\n",
       "  <thead>\n",
       "    <tr style=\"text-align: right;\">\n",
       "      <th></th>\n",
       "      <th>ID_CLIENTE</th>\n",
       "      <th>NRO_CONTRATO</th>\n",
       "      <th>PRAZO</th>\n",
       "      <th>VL_EMPRESTIMO</th>\n",
       "      <th>VL_PARCELA</th>\n",
       "      <th>QT_PC_ATRASO</th>\n",
       "      <th>QT_PC_PAGAS</th>\n",
       "      <th>VL_PAGO</th>\n",
       "      <th>NOME</th>\n",
       "      <th>SEXO</th>\n",
       "      <th>IDADE</th>\n",
       "      <th>ENDERECO</th>\n",
       "      <th>COMPLEMENTO</th>\n",
       "      <th>BAIRRO</th>\n",
       "      <th>CIDADE</th>\n",
       "      <th>CEP</th>\n",
       "      <th>ESTADO</th>\n",
       "      <th>UF</th>\n",
       "      <th>FONE_RES</th>\n",
       "      <th>FONE_COM</th>\n",
       "      <th>FONE_CEL</th>\n",
       "      <th>VL_RENDA</th>\n",
       "      <th>QT_IMOVEIS</th>\n",
       "      <th>QT_FILHOS</th>\n",
       "      <th>ESTADO_CIVIL</th>\n",
       "      <th>NOME_CONJUTE</th>\n",
       "      <th>NOME_MAE</th>\n",
       "      <th>NIVEL_ESCOLARIDADE</th>\n",
       "      <th>E_MAIL</th>\n",
       "      <th>E_MAIL_ALTERNATIVO</th>\n",
       "      <th>CHAVE_AUTENTICACAO</th>\n",
       "    </tr>\n",
       "  </thead>\n",
       "  <tbody>\n",
       "    <tr>\n",
       "      <th>0</th>\n",
       "      <td>1</td>\n",
       "      <td>QRY12345689705</td>\n",
       "      <td>120</td>\n",
       "      <td>120000.0</td>\n",
       "      <td>1000.0</td>\n",
       "      <td>4</td>\n",
       "      <td>12</td>\n",
       "      <td>35000.0</td>\n",
       "      <td>NERD DOS DADOS - TUDO SOBRE CIENCA DE DADOS</td>\n",
       "      <td>MASCULINO</td>\n",
       "      <td>43</td>\n",
       "      <td>AVENIDA NERD DOS DADOS TUDO SOBRE CIENCIA DE D...</td>\n",
       "      <td>CASA 20</td>\n",
       "      <td>BAIRRO NERD</td>\n",
       "      <td>CIDADE NERD</td>\n",
       "      <td>12356-000</td>\n",
       "      <td>SÃO PAULO</td>\n",
       "      <td>SP</td>\n",
       "      <td>(11) 2323-2323</td>\n",
       "      <td>(11) 2424-2424</td>\n",
       "      <td>(11) 98888-8888</td>\n",
       "      <td>1000.0</td>\n",
       "      <td>1</td>\n",
       "      <td>1</td>\n",
       "      <td>CASADO</td>\n",
       "      <td>ESPOSA DO NERD DOS DADOS</td>\n",
       "      <td>NOME DA MAE DO NERD DOS DADOS</td>\n",
       "      <td>PÓS GRADUÇÃO COMPLETO / MBA</td>\n",
       "      <td>comercial@nerddosdados.com.br</td>\n",
       "      <td>comercial@nerddosdados.com.br</td>\n",
       "      <td>xzdfaiydiagssfdljadsoiayfdiuoagifduahusfdaiudy...</td>\n",
       "    </tr>\n",
       "  </tbody>\n",
       "</table>\n",
       "</div>"
      ],
      "text/plain": [
       "   ID_CLIENTE    NRO_CONTRATO  PRAZO  VL_EMPRESTIMO  VL_PARCELA  QT_PC_ATRASO  \\\n",
       "0           1  QRY12345689705    120       120000.0      1000.0             4   \n",
       "\n",
       "   QT_PC_PAGAS  VL_PAGO                                         NOME  \\\n",
       "0           12  35000.0  NERD DOS DADOS - TUDO SOBRE CIENCA DE DADOS   \n",
       "\n",
       "        SEXO  IDADE                                           ENDERECO  \\\n",
       "0  MASCULINO     43  AVENIDA NERD DOS DADOS TUDO SOBRE CIENCIA DE D...   \n",
       "\n",
       "  COMPLEMENTO       BAIRRO       CIDADE        CEP     ESTADO  UF  \\\n",
       "0     CASA 20  BAIRRO NERD  CIDADE NERD  12356-000  SÃO PAULO  SP   \n",
       "\n",
       "         FONE_RES        FONE_COM         FONE_CEL  VL_RENDA  QT_IMOVEIS  \\\n",
       "0  (11) 2323-2323  (11) 2424-2424  (11) 98888-8888    1000.0           1   \n",
       "\n",
       "   QT_FILHOS ESTADO_CIVIL              NOME_CONJUTE  \\\n",
       "0          1       CASADO  ESPOSA DO NERD DOS DADOS   \n",
       "\n",
       "                        NOME_MAE           NIVEL_ESCOLARIDADE  \\\n",
       "0  NOME DA MAE DO NERD DOS DADOS  PÓS GRADUÇÃO COMPLETO / MBA   \n",
       "\n",
       "                          E_MAIL             E_MAIL_ALTERNATIVO  \\\n",
       "0  comercial@nerddosdados.com.br  comercial@nerddosdados.com.br   \n",
       "\n",
       "                                  CHAVE_AUTENTICACAO  \n",
       "0  xzdfaiydiagssfdljadsoiayfdiuoagifduahusfdaiudy...  "
      ]
     },
     "execution_count": 15,
     "metadata": {},
     "output_type": "execute_result"
    }
   ],
   "source": [
    "# Avaliando as variavei que temos \n",
    "\n",
    "df.head(1)"
   ]
  },
  {
   "cell_type": "markdown",
   "id": "89720b07-0eea-42b0-8c7d-7a4ce50f6b44",
   "metadata": {},
   "source": [
    "Essas primeiras 5 linhas na verdade é para avaliarmos o que temos no dataset, por exemplo, podemos perceber que tem muitas informações que em um modelo de machine learning, nós não vamos utilizar como por exemplo: nome da mae, email, email alternativo, telefone, endereço.\n",
    "Tem muitos dados que nós não vamos utilizar."
   ]
  },
  {
   "cell_type": "code",
   "execution_count": null,
   "id": "55032369",
   "metadata": {},
   "outputs": [],
   "source": []
  },
  {
   "cell_type": "code",
   "execution_count": 18,
   "id": "db330ee3",
   "metadata": {},
   "outputs": [
    {
     "data": {
      "text/plain": [
       "Index(['ID_CLIENTE', 'NRO_CONTRATO', 'PRAZO', 'VL_EMPRESTIMO', 'VL_PARCELA',\n",
       "       'QT_PC_ATRASO', 'QT_PC_PAGAS', 'VL_PAGO', 'NOME', 'SEXO', 'IDADE',\n",
       "       'ENDERECO', 'COMPLEMENTO', 'BAIRRO', 'CIDADE', 'CEP', 'ESTADO', 'UF',\n",
       "       'FONE_RES', 'FONE_COM', 'FONE_CEL', 'VL_RENDA', 'QT_IMOVEIS',\n",
       "       'QT_FILHOS', 'ESTADO_CIVIL', 'NOME_CONJUTE', 'NOME_MAE',\n",
       "       'NIVEL_ESCOLARIDADE', 'E_MAIL', 'E_MAIL_ALTERNATIVO',\n",
       "       'CHAVE_AUTENTICACAO'],\n",
       "      dtype='object')"
      ]
     },
     "execution_count": 18,
     "metadata": {},
     "output_type": "execute_result"
    }
   ],
   "source": [
    "# Extraindo o nome das colunas\n",
    "\n",
    "df.columns"
   ]
  },
  {
   "cell_type": "code",
   "execution_count": 20,
   "id": "0af6ac6e",
   "metadata": {},
   "outputs": [],
   "source": [
    "# Selecionando as colunas a serem utilizadas\n",
    "\n",
    "colunas = ['NRO_CONTRATO', 'PRAZO', 'VL_EMPRESTIMO', 'VL_PARCELA',\n",
    "           'QT_PC_ATRASO', 'QT_PC_PAGAS', 'VL_PAGO', 'SEXO', 'IDADE','VL_RENDA']"
   ]
  },
  {
   "cell_type": "code",
   "execution_count": 22,
   "id": "86875784",
   "metadata": {},
   "outputs": [
    {
     "data": {
      "text/plain": [
       "['NRO_CONTRATO',\n",
       " 'PRAZO',\n",
       " 'VL_EMPRESTIMO',\n",
       " 'VL_PARCELA',\n",
       " 'QT_PC_ATRASO',\n",
       " 'QT_PC_PAGAS',\n",
       " 'VL_PAGO',\n",
       " 'SEXO',\n",
       " 'IDADE',\n",
       " 'VL_RENDA']"
      ]
     },
     "execution_count": 22,
     "metadata": {},
     "output_type": "execute_result"
    }
   ],
   "source": [
    "# Visualizando as colunas\n",
    "\n",
    "colunas"
   ]
  },
  {
   "cell_type": "code",
   "execution_count": 24,
   "id": "cce4f9ae",
   "metadata": {},
   "outputs": [],
   "source": [
    "# Carregando o DataSet somente com a coluna que precisamos\n",
    "\n",
    "df = pd.read_csv('dados.csv', sep=';', usecols = colunas)"
   ]
  },
  {
   "cell_type": "code",
   "execution_count": 26,
   "id": "856d5a7e",
   "metadata": {},
   "outputs": [
    {
     "data": {
      "text/html": [
       "<div>\n",
       "<style scoped>\n",
       "    .dataframe tbody tr th:only-of-type {\n",
       "        vertical-align: middle;\n",
       "    }\n",
       "\n",
       "    .dataframe tbody tr th {\n",
       "        vertical-align: top;\n",
       "    }\n",
       "\n",
       "    .dataframe thead th {\n",
       "        text-align: right;\n",
       "    }\n",
       "</style>\n",
       "<table border=\"1\" class=\"dataframe\">\n",
       "  <thead>\n",
       "    <tr style=\"text-align: right;\">\n",
       "      <th></th>\n",
       "      <th>NRO_CONTRATO</th>\n",
       "      <th>PRAZO</th>\n",
       "      <th>VL_EMPRESTIMO</th>\n",
       "      <th>VL_PARCELA</th>\n",
       "      <th>QT_PC_ATRASO</th>\n",
       "      <th>QT_PC_PAGAS</th>\n",
       "      <th>VL_PAGO</th>\n",
       "      <th>SEXO</th>\n",
       "      <th>IDADE</th>\n",
       "      <th>VL_RENDA</th>\n",
       "    </tr>\n",
       "  </thead>\n",
       "  <tbody>\n",
       "    <tr>\n",
       "      <th>0</th>\n",
       "      <td>QRY12345689705</td>\n",
       "      <td>120</td>\n",
       "      <td>120000.0</td>\n",
       "      <td>1000.0</td>\n",
       "      <td>4</td>\n",
       "      <td>12</td>\n",
       "      <td>35000.0</td>\n",
       "      <td>MASCULINO</td>\n",
       "      <td>43</td>\n",
       "      <td>1000.0</td>\n",
       "    </tr>\n",
       "    <tr>\n",
       "      <th>1</th>\n",
       "      <td>QRY12345689705</td>\n",
       "      <td>120</td>\n",
       "      <td>120000.0</td>\n",
       "      <td>1000.0</td>\n",
       "      <td>4</td>\n",
       "      <td>12</td>\n",
       "      <td>35000.0</td>\n",
       "      <td>MASCULINO</td>\n",
       "      <td>43</td>\n",
       "      <td>1000.0</td>\n",
       "    </tr>\n",
       "    <tr>\n",
       "      <th>2</th>\n",
       "      <td>QRY12345689705</td>\n",
       "      <td>120</td>\n",
       "      <td>120000.0</td>\n",
       "      <td>1000.0</td>\n",
       "      <td>4</td>\n",
       "      <td>12</td>\n",
       "      <td>35000.0</td>\n",
       "      <td>MASCULINO</td>\n",
       "      <td>43</td>\n",
       "      <td>1000.0</td>\n",
       "    </tr>\n",
       "    <tr>\n",
       "      <th>3</th>\n",
       "      <td>QRY12345689705</td>\n",
       "      <td>120</td>\n",
       "      <td>120000.0</td>\n",
       "      <td>1000.0</td>\n",
       "      <td>4</td>\n",
       "      <td>12</td>\n",
       "      <td>35000.0</td>\n",
       "      <td>MASCULINO</td>\n",
       "      <td>43</td>\n",
       "      <td>1000.0</td>\n",
       "    </tr>\n",
       "    <tr>\n",
       "      <th>4</th>\n",
       "      <td>QRY12345689705</td>\n",
       "      <td>120</td>\n",
       "      <td>120000.0</td>\n",
       "      <td>1000.0</td>\n",
       "      <td>4</td>\n",
       "      <td>12</td>\n",
       "      <td>35000.0</td>\n",
       "      <td>MASCULINO</td>\n",
       "      <td>43</td>\n",
       "      <td>1000.0</td>\n",
       "    </tr>\n",
       "  </tbody>\n",
       "</table>\n",
       "</div>"
      ],
      "text/plain": [
       "     NRO_CONTRATO  PRAZO  VL_EMPRESTIMO  VL_PARCELA  QT_PC_ATRASO  \\\n",
       "0  QRY12345689705    120       120000.0      1000.0             4   \n",
       "1  QRY12345689705    120       120000.0      1000.0             4   \n",
       "2  QRY12345689705    120       120000.0      1000.0             4   \n",
       "3  QRY12345689705    120       120000.0      1000.0             4   \n",
       "4  QRY12345689705    120       120000.0      1000.0             4   \n",
       "\n",
       "   QT_PC_PAGAS  VL_PAGO       SEXO  IDADE  VL_RENDA  \n",
       "0           12  35000.0  MASCULINO     43    1000.0  \n",
       "1           12  35000.0  MASCULINO     43    1000.0  \n",
       "2           12  35000.0  MASCULINO     43    1000.0  \n",
       "3           12  35000.0  MASCULINO     43    1000.0  \n",
       "4           12  35000.0  MASCULINO     43    1000.0  "
      ]
     },
     "execution_count": 26,
     "metadata": {},
     "output_type": "execute_result"
    }
   ],
   "source": [
    "# Visualizando o DataFrame\n",
    "\n",
    "df.head()"
   ]
  },
  {
   "cell_type": "code",
   "execution_count": 28,
   "id": "e01082dc",
   "metadata": {},
   "outputs": [
    {
     "data": {
      "text/plain": [
       "(7136809, 10)"
      ]
     },
     "execution_count": 28,
     "metadata": {},
     "output_type": "execute_result"
    }
   ],
   "source": [
    "# Verificando a quantidade de variaveis e observações\n",
    "\n",
    "df.shape"
   ]
  },
  {
   "cell_type": "code",
   "execution_count": 30,
   "id": "996a4442",
   "metadata": {},
   "outputs": [
    {
     "name": "stdout",
     "output_type": "stream",
     "text": [
      "<class 'pandas.core.frame.DataFrame'>\n",
      "RangeIndex: 7136809 entries, 0 to 7136808\n",
      "Data columns (total 10 columns):\n",
      " #   Column         Dtype  \n",
      "---  ------         -----  \n",
      " 0   NRO_CONTRATO   object \n",
      " 1   PRAZO          int64  \n",
      " 2   VL_EMPRESTIMO  float64\n",
      " 3   VL_PARCELA     float64\n",
      " 4   QT_PC_ATRASO   int64  \n",
      " 5   QT_PC_PAGAS    int64  \n",
      " 6   VL_PAGO        float64\n",
      " 7   SEXO           object \n",
      " 8   IDADE          int64  \n",
      " 9   VL_RENDA       float64\n",
      "dtypes: float64(4), int64(4), object(2)\n",
      "memory usage: 1.2 GB\n"
     ]
    }
   ],
   "source": [
    "# Avaliando o consumo de memória\n",
    "\n",
    "df.info(memory_usage='deep')"
   ]
  },
  {
   "cell_type": "code",
   "execution_count": null,
   "id": "4799d3f2",
   "metadata": {},
   "outputs": [],
   "source": []
  }
 ],
 "metadata": {
  "kernelspec": {
   "display_name": "Python [conda env:base] *",
   "language": "python",
   "name": "conda-base-py"
  },
  "language_info": {
   "codemirror_mode": {
    "name": "ipython",
    "version": 3
   },
   "file_extension": ".py",
   "mimetype": "text/x-python",
   "name": "python",
   "nbconvert_exporter": "python",
   "pygments_lexer": "ipython3",
   "version": "3.12.7"
  }
 },
 "nbformat": 4,
 "nbformat_minor": 5
}
